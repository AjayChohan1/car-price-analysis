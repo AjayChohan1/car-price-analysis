{
 "cells": [
  {
   "cell_type": "code",
   "execution_count": null,
   "id": "296e47ee",
   "metadata": {},
   "outputs": [],
   "source": [
    "# welcome to the project of team namipajaycrew"
   ]
  },
  {
   "cell_type": "code",
   "execution_count": null,
   "id": "bf70f83d",
   "metadata": {},
   "outputs": [],
   "source": []
  }
 ],
 "metadata": {
  "kernelspec": {
   "display_name": "Python 3",
   "language": "python",
   "name": "python3"
  },
  "language_info": {
   "name": "python",
   "version": "3.12.8"
  }
 },
 "nbformat": 4,
 "nbformat_minor": 5
}
